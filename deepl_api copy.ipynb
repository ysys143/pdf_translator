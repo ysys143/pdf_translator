{
 "cells": [
  {
   "cell_type": "code",
   "execution_count": null,
   "metadata": {},
   "outputs": [],
   "source": [
    "#!pip install deepl fitz"
   ]
  },
  {
   "cell_type": "code",
   "execution_count": 10,
   "metadata": {},
   "outputs": [],
   "source": [
    "#Use 3.12.4\n",
    "import os\n",
    "import deepl\n",
    "\n",
    "key_path = '/Users/jaesolshin/Documents/GitHub/pdf_translator/key.txt'\n",
    "auth_key = open(key_path, 'r', encoding='utf-8').read()  # Replace with your key\n",
    "translator = deepl.Translator(auth_key)"
   ]
  },
  {
   "cell_type": "code",
   "execution_count": 11,
   "metadata": {},
   "outputs": [],
   "source": [
    "import fitz  # PyMuPDF\n",
    "pdf_path = '/Users/jaesolshin/Library/CloudStorage/GoogleDrive-ysys143@gmail.com/내 드라이브/2024-2/Critical AI/main/0 INTRODUCTION - HOW TO DESTROY THE WORLD, ONE SOLUTION AT A TIME.pdf'\n",
    "doc = fitz.open(pdf_path)"
   ]
  },
  {
   "cell_type": "code",
   "execution_count": 15,
   "metadata": {},
   "outputs": [],
   "source": [
    "eng_text = doc[1].get_text()\n",
    "eng_text = eng_text.replace('\\n', ' ')  # \\n 제거"
   ]
  },
  {
   "cell_type": "code",
   "execution_count": 17,
   "metadata": {},
   "outputs": [
    {
     "name": "stdout",
     "output_type": "stream",
     "text": [
      "2 서론에서는 정보 초고속도로가 오프라인의 장애물을 녹여내어 \"마찰 없는 자본주의\"를 가능하게 했다고 주장했습니다.4 전자 프론티어 재단(EFF)의 공동 설립자인 존 길모어는 인터넷이 \"검열을 피해 우회하는 것으로 해석한다\"고 말한 것으로 알려졌습니다.5 2010년 말, 인터넷은 중동의 민주화 봉기를 이끈 '해방 기술'로 찬사를 받았습니다.6 인터넷은 우리의 마음을 자유롭게 함으로써 인종차별부터 정치적 억압까지 모든 문제를 해결하는 데 도움이 될 것입니다. 21세기 초, 여전히 희망을 팔던 사람들의 질문은 다음과 같았습니다: 어떻게 하면 악몽에서 꿈을 되찾을 수 있을까?  어떤 정보를 유출하고, 어떤 새로운 사업 계획을 세우고, 기술을 다시 위대하게 만들기 위해 어떤 사과를 해야 할까요? 이러한 충동은 아무리 좋은 의도로 시작되었지만, 약속과 위협은 동전의 양면과도 같았기 때문에 잘못된 방향이기도 했습니다. 정치적 문제에 대한 기술적 해결책을 모색할 때, 이들은 학대와 억압에 맞서는 최선의 방법은 차이와 차별을 무시하는 것이라고 가정합니다.7 이들은 개인, 이웃 또는 '부족'의 역량 강화에 집중함으로써 연대를 약화시킵니다. 이들은 '좋은' 기술은 노예적이라고 가정하기 때문에 필연적으로 절대적인 의존과 반란에 대한 두려움을 불러일으킵니다. 희망적 무지는 해결책이 아니라 차별과 불평등을 영속화하는 문제이며, 한 번에 한 가지씩 해결책을 제시합니다. 문제는 거대 기술 독점 기업이 예측하지 못한 새로운 미래를 창조하기 위해 습관, 제도, 규범을 파괴하는 것이 아닙니다. 문제는 '창조적 파괴'라는 미명하에 차별적인 과거의 실수를 인정하고 고치기는커녕 이를 증폭시키고 자동화하고 있다는 점입니다. 이러한 위협에 대응하기 위해 저는 다음과 같은 5단계 프로그램을 제안합니다: 1. 차이를 무시하는 것이 현재와 역사적으로 어떻게 차별을 증폭시키는지 폭로하고 조사합니다. 2. 알고리즘과 데이터 구조의 기초가 되는 기본 가정과 공리에 의문을 제기합니다. 3. 과거, 현재, 미래의 머신러닝 알고리즘이 언제, 왜, 어떻게 예측이 작동하는지 파악합니다. 4. 기존 AI 시스템을 사용하여 현재의 불평등을 진단하고 차별적 예측을 과거 차별의 증거로 취급합니다.\n"
     ]
    }
   ],
   "source": [
    "result = translator.translate_text(eng_text, target_lang=\"KO\")\n",
    "print(result.text)  "
   ]
  },
  {
   "cell_type": "code",
   "execution_count": 25,
   "metadata": {},
   "outputs": [
    {
     "name": "stdout",
     "output_type": "stream",
     "text": [
      "소개: 세상을 파괴하는 방법, 한 번에 하나의 솔루션 인터넷은 이 세상의 거의 모든 나쁜 일의 근원이 되는 악몽 같은 존재가 되었습니다. 인터넷은 국가와 기업이 공동 생산한 전 세계적인 감시 네트워크, 거짓과 음모론을 퍼뜨리고 사회를 양극화하며 폭력을 유발하고 팬데믹을 장기화하며 지구를 파괴하는 수준의 소비를 조장하는 군사적 심리 작전(PSYOP)을 기반으로 하는 소셜 미디어 알고리즘, 기존의 불평등을 악화하고 인류의 미래를 위협하는 인공지능(AI) 프로그램 등을 탄생시켰습니다. 아이러니한 것은 인터넷과 인공지능이 약속했던 것과는 정반대의 결과를 낳고 있다는 점입니다. 20세기 후반의 인터넷인 사이버 공간은 글로벌 민주주의, 평등, 번영의 새로운 시대를 열 것으로 기대되었습니다. 인공지능은 운전기사, 개인 비서, 전문 고문 등 \"1%\"의 특권을 \"90%\"에게까지 확산시킬 유순한 기계 하인을 생산해낼 것이었습니다. 또한 인공지능은 기계가 인종, 성별, 나이, 신체적 약점을 \"볼 수 없기 때문에\" 차별을 없앨 것입니다.1 사이버 공간은 \"마음의 새로운 고향\"2으로서 말 그대로 육체와 정체성이 중요하지 않은 전자적 개척지이기 때문에 개인이 억압과 국가 주권으로부터 자유로워질 것입니다. 1990년대 중반, 앨 고어 부통령과 미국 사법부 구성원들은 인터넷이 모든 사람에게 발언할 수 있는 공간을 제공한다는 점에서 인터넷을 궁극적인 공공 영역이라고 설명했습니다.3 당시 마이크로소프트의 CEO였던 빌 게이츠,\n"
     ]
    }
   ],
   "source": [
    "import re\n",
    "\n",
    "# 원래 텍스트에서 여러 개의 줄바꿈이 있을 때, 한 개만 남기는 처리\n",
    "eng_text = doc[0].get_text()\n",
    "\n",
    "# 정규 표현식을 사용하여 연속된 줄바꿈(\\n)을 하나로 축약\n",
    "eng_text = re.sub(r'\\n+', '\\n', eng_text)\n",
    "\n",
    "# 남은 하나의 \\n도 공백으로 대체\n",
    "eng_text = eng_text.replace('\\n', ' ')\n",
    "\n",
    "# 필요에 따라 번역\n",
    "result = translator.translate_text(eng_text, target_lang=\"KO\")\n",
    "print(result.text)\n"
   ]
  },
  {
   "cell_type": "code",
   "execution_count": null,
   "metadata": {},
   "outputs": [],
   "source": []
  }
 ],
 "metadata": {
  "kernelspec": {
   "display_name": "Python 3",
   "language": "python",
   "name": "python3"
  },
  "language_info": {
   "codemirror_mode": {
    "name": "ipython",
    "version": 3
   },
   "file_extension": ".py",
   "mimetype": "text/x-python",
   "name": "python",
   "nbconvert_exporter": "python",
   "pygments_lexer": "ipython3",
   "version": "3.12.4"
  }
 },
 "nbformat": 4,
 "nbformat_minor": 2
}
