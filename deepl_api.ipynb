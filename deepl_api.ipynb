{
 "cells": [
  {
   "cell_type": "code",
   "execution_count": 1,
   "metadata": {},
   "outputs": [
    {
     "name": "stdout",
     "output_type": "stream",
     "text": [
      "Collecting deepl\n",
      "  Downloading deepl-1.19.1-py3-none-any.whl.metadata (27 kB)\n",
      "Requirement already satisfied: requests<3,>=2 in /Library/Frameworks/Python.framework/Versions/3.12/lib/python3.12/site-packages (from deepl) (2.32.3)\n",
      "Requirement already satisfied: charset-normalizer<4,>=2 in /Library/Frameworks/Python.framework/Versions/3.12/lib/python3.12/site-packages (from requests<3,>=2->deepl) (3.3.2)\n",
      "Requirement already satisfied: idna<4,>=2.5 in /Library/Frameworks/Python.framework/Versions/3.12/lib/python3.12/site-packages (from requests<3,>=2->deepl) (3.10)\n",
      "Requirement already satisfied: urllib3<3,>=1.21.1 in /Library/Frameworks/Python.framework/Versions/3.12/lib/python3.12/site-packages (from requests<3,>=2->deepl) (1.26.20)\n",
      "Requirement already satisfied: certifi>=2017.4.17 in /Library/Frameworks/Python.framework/Versions/3.12/lib/python3.12/site-packages (from requests<3,>=2->deepl) (2024.8.30)\n",
      "Downloading deepl-1.19.1-py3-none-any.whl (35 kB)\n",
      "Installing collected packages: deepl\n",
      "Successfully installed deepl-1.19.1\n"
     ]
    }
   ],
   "source": [
    "!pip install deepl"
   ]
  },
  {
   "cell_type": "code",
   "execution_count": 9,
   "metadata": {},
   "outputs": [
    {
     "name": "stdout",
     "output_type": "stream",
     "text": [
      "안녕하세요, 세상 여러분!\n"
     ]
    }
   ],
   "source": [
    "#Use 3.12.4\n",
    "import os\n",
    "import deepl\n",
    "\n",
    "key_path = '/Users/jaesolshin/Documents/GitHub/pdf_translator/key.txt'\n",
    "auth_key = open(key_path, 'r', encoding='utf-8').read()  # Replace with your key\n",
    "translator = deepl.Translator(auth_key)\n",
    "\n",
    "result = translator.translate_text(\"Hello, world!\", target_lang=\"KO\")\n",
    "print(result.text)  # \"Bonjour, le monde !\""
   ]
  },
  {
   "cell_type": "code",
   "execution_count": 8,
   "metadata": {},
   "outputs": [
    {
     "name": "stdout",
     "output_type": "stream",
     "text": [
      "Language Code: BG, Language Name: Bulgarian\n",
      "Language Code: CS, Language Name: Czech\n",
      "Language Code: DA, Language Name: Danish\n",
      "Language Code: DE, Language Name: German\n",
      "Language Code: EL, Language Name: Greek\n",
      "Language Code: EN-GB, Language Name: English (British)\n",
      "Language Code: EN-US, Language Name: English (American)\n",
      "Language Code: ES, Language Name: Spanish\n",
      "Language Code: ET, Language Name: Estonian\n",
      "Language Code: FI, Language Name: Finnish\n",
      "Language Code: FR, Language Name: French\n",
      "Language Code: HU, Language Name: Hungarian\n",
      "Language Code: ID, Language Name: Indonesian\n",
      "Language Code: IT, Language Name: Italian\n",
      "Language Code: JA, Language Name: Japanese\n",
      "Language Code: KO, Language Name: Korean\n",
      "Language Code: LT, Language Name: Lithuanian\n",
      "Language Code: LV, Language Name: Latvian\n",
      "Language Code: NB, Language Name: Norwegian\n",
      "Language Code: NL, Language Name: Dutch\n",
      "Language Code: PL, Language Name: Polish\n",
      "Language Code: PT-BR, Language Name: Portuguese (Brazilian)\n",
      "Language Code: PT-PT, Language Name: Portuguese (European)\n",
      "Language Code: RO, Language Name: Romanian\n",
      "Language Code: RU, Language Name: Russian\n",
      "Language Code: SK, Language Name: Slovak\n",
      "Language Code: SL, Language Name: Slovenian\n",
      "Language Code: SV, Language Name: Swedish\n",
      "Language Code: TR, Language Name: Turkish\n",
      "Language Code: UK, Language Name: Ukrainian\n",
      "Language Code: ZH, Language Name: Chinese (simplified)\n",
      "Language Code: ZH-HANS, Language Name: Chinese (simplified)\n"
     ]
    }
   ],
   "source": [
    "# 지원되는 타겟 언어 목록 조회\n",
    "target_languages = translator.get_target_languages()\n",
    "\n",
    "# 출력\n",
    "for lang in target_languages:\n",
    "    print(f\"Language Code: {lang.code}, Language Name: {lang.name}\")"
   ]
  }
 ],
 "metadata": {
  "kernelspec": {
   "display_name": "Python 3",
   "language": "python",
   "name": "python3"
  },
  "language_info": {
   "codemirror_mode": {
    "name": "ipython",
    "version": 3
   },
   "file_extension": ".py",
   "mimetype": "text/x-python",
   "name": "python",
   "nbconvert_exporter": "python",
   "pygments_lexer": "ipython3",
   "version": "3.12.4"
  }
 },
 "nbformat": 4,
 "nbformat_minor": 2
}
